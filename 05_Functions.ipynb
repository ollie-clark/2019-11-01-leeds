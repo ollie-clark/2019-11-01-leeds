{
  "nbformat": 4,
  "nbformat_minor": 0,
  "metadata": {
    "colab": {
      "name": "05_Functions.ipynb",
      "provenance": [],
      "mount_file_id": "1Q8oZ8Fj8CJVzSeQu-4IAGzpEqgmW5Huh",
      "authorship_tag": "ABX9TyM/nUJZFKE6oSoGOImAuThH",
      "include_colab_link": true
    },
    "kernelspec": {
      "name": "python3",
      "display_name": "Python 3"
    }
  },
  "cells": [
    {
      "cell_type": "markdown",
      "metadata": {
        "id": "view-in-github",
        "colab_type": "text"
      },
      "source": [
        "<a href=\"https://colab.research.google.com/github/ollie-clark/2019-11-01-leeds/blob/gh-pages/05_Functions.ipynb\" target=\"_parent\"><img src=\"https://colab.research.google.com/assets/colab-badge.svg\" alt=\"Open In Colab\"/></a>"
      ]
    },
    {
      "cell_type": "code",
      "metadata": {
        "id": "UP9OC5R6mUbg",
        "colab_type": "code",
        "colab": {
          "base_uri": "https://localhost:8080/",
          "height": 34
        },
        "outputId": "941bc6b5-d1ea-4e37-a601-8a38bc202351"
      },
      "source": [
        "# Example function\n",
        "\n",
        "def fahr_to_celsius(temp):\n",
        "  return((temp - 32) * (5/9))\n",
        "\n",
        "print(fahr_to_celsius(32))"
      ],
      "execution_count": 1,
      "outputs": [
        {
          "output_type": "stream",
          "text": [
            "0.0\n"
          ],
          "name": "stdout"
        }
      ]
    },
    {
      "cell_type": "code",
      "metadata": {
        "id": "xUQtEYZTnmqj",
        "colab_type": "code",
        "colab": {
          "base_uri": "https://localhost:8080/",
          "height": 34
        },
        "outputId": "4caff703-6972-4aa7-9f39-c94117310944"
      },
      "source": [
        "# Second example function\n",
        "\n",
        "def celsius_to_kelvin(temp_c):\n",
        "  return temp_c + 273.15\n",
        "\n",
        "print(celsius_to_kelvin(100))"
      ],
      "execution_count": 4,
      "outputs": [
        {
          "output_type": "stream",
          "text": [
            "373.15\n"
          ],
          "name": "stdout"
        }
      ]
    },
    {
      "cell_type": "code",
      "metadata": {
        "id": "ipudTADqoLm0",
        "colab_type": "code",
        "colab": {
          "base_uri": "https://localhost:8080/",
          "height": 34
        },
        "outputId": "29cb2c32-7fde-4c77-a399-6579ec298daa"
      },
      "source": [
        "# Converting fahrenheit to kelvin\n",
        "\n",
        "def fahr_to_kelvin(temp_f):\n",
        "  return(celsius_to_kelvin(fahr_to_celsius(temp_f)))\n",
        "\n",
        "print(fahr_to_kelvin(0))"
      ],
      "execution_count": 6,
      "outputs": [
        {
          "output_type": "stream",
          "text": [
            "255.3722222222222\n"
          ],
          "name": "stdout"
        }
      ]
    }
  ]
}